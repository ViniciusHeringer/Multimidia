{
  "cells": [
    {
      "cell_type": "markdown",
      "source": [
        "Importando bibliotecas"
      ],
      "metadata": {
        "id": "al-r4fobk06j"
      }
    },
    {
      "cell_type": "code",
      "source": [
        "import moviepy.editor as mpe\n",
        "import numpy as np\n",
        "import matplotlib.pyplot as plt\n",
        "from moviepy.editor import VideoFileClip\n",
        "from moviepy.audio.fx.all import volumex"
      ],
      "metadata": {
        "id": "QLzeRt6qt3Ps"
      },
      "execution_count": 20,
      "outputs": []
    },
    {
      "cell_type": "markdown",
      "source": [
        "Juntando o áudio com o fundo"
      ],
      "metadata": {
        "id": "hrRSWfnQk5Xp"
      }
    },
    {
      "cell_type": "code",
      "execution_count": null,
      "metadata": {
        "colab": {
          "base_uri": "https://localhost:8080/"
        },
        "id": "xvkiz0YmZQSF",
        "outputId": "9d1ed5e4-68d7-4a40-ab21-d90babdec827"
      },
      "outputs": [
        {
          "output_type": "stream",
          "name": "stdout",
          "text": [
            "Moviepy - Building video video.mp4.\n",
            "MoviePy - Writing audio in videoTEMP_MPY_wvf_snd.mp3\n"
          ]
        },
        {
          "output_type": "stream",
          "name": "stderr",
          "text": []
        },
        {
          "output_type": "stream",
          "name": "stdout",
          "text": [
            "MoviePy - Done.\n",
            "Moviepy - Writing video video.mp4\n",
            "\n"
          ]
        },
        {
          "output_type": "stream",
          "name": "stderr",
          "text": []
        },
        {
          "output_type": "stream",
          "name": "stdout",
          "text": [
            "Moviepy - Done !\n",
            "Moviepy - video ready video.mp4\n"
          ]
        }
      ],
      "source": [
        "video = mpe.VideoFileClip(\"vagabond.mp4\").resize(height=360)\n",
        "audio = mpe.AudioFileClip(\"script.wav\")\n",
        "\n",
        "video = video.set_audio(audio)\n",
        "\n",
        "video = video.set_duration(audio.duration)\n",
        "\n",
        "video.write_videofile(\"video.mp4\", codec='libx264')"
      ]
    },
    {
      "cell_type": "markdown",
      "source": [
        "Fazendo o video inverter a imagem no eixo a cada 20s"
      ],
      "metadata": {
        "id": "OVVq3eEDlDi5"
      }
    },
    {
      "cell_type": "code",
      "execution_count": 27,
      "metadata": {
        "colab": {
          "base_uri": "https://localhost:8080/"
        },
        "id": "P09IPIHSn2HN",
        "outputId": "7ef0293a-33b8-4481-95f1-ad375fa9be24"
      },
      "outputs": [
        {
          "output_type": "stream",
          "name": "stdout",
          "text": [
            "Moviepy - Building video video_flip.mp4.\n",
            "MoviePy - Writing audio in video_flipTEMP_MPY_wvf_snd.mp3\n"
          ]
        },
        {
          "output_type": "stream",
          "name": "stderr",
          "text": []
        },
        {
          "output_type": "stream",
          "name": "stdout",
          "text": [
            "MoviePy - Done.\n",
            "Moviepy - Writing video video_flip.mp4\n",
            "\n"
          ]
        },
        {
          "output_type": "stream",
          "name": "stderr",
          "text": []
        },
        {
          "output_type": "stream",
          "name": "stdout",
          "text": [
            "Moviepy - Done !\n",
            "Moviepy - video ready video_flip.mp4\n"
          ]
        }
      ],
      "source": [
        "import moviepy.editor as mpe\n",
        "import numpy as np\n",
        "\n",
        "def reflect(frame):\n",
        "    img_refl = np.zeros(shape=frame.shape, dtype=np.uint8)\n",
        "    img_refl[::-1, ::1] = frame\n",
        "    return img_refl\n",
        "\n",
        "def dereflect(frame):\n",
        "    img_refl = np.zeros(shape=frame.shape, dtype=np.uint8)\n",
        "    img_refl[::1, ::1] = frame\n",
        "    return img_refl\n",
        "\n",
        "video = mpe.VideoFileClip(\"vagabond.mp4\").resize(height=360)\n",
        "audio = mpe.AudioFileClip(\"script.wav\")\n",
        "\n",
        "video = video.set_audio(audio)\n",
        "\n",
        "video = video.set_duration(audio.duration)\n",
        "\n",
        "part1 = video.subclip(0, 20)\n",
        "part2 = video.subclip(20, 40).fl_image(reflect)\n",
        "part3 = video.subclip(40, 60).fl_image(dereflect)\n",
        "part4 = video.subclip(60, 80).fl_image(reflect)\n",
        "part5 = video.subclip(80, 100).fl_image(dereflect)\n",
        "part6 = video.subclip(100, 120).fl_image(reflect)\n",
        "part7 = video.subclip(120, 140).fl_image(dereflect)\n",
        "part8 = video.subclip(140, 160).fl_image(reflect)\n",
        "part9 = video.subclip(160).fl_image(dereflect)\n",
        "\n",
        "parts = mpe.concatenate_videoclips([part1, part2, part3, part4, part5, part6, part7, part8, part9])\n",
        "\n",
        "parts.write_videofile(\"video_flip.mp4\", codec='libx264')\n",
        "\n"
      ]
    },
    {
      "cell_type": "markdown",
      "source": [
        "Diminuir o som de forma gradativa a cada 30 segundos, de forma que fique sem som nos últimos 10 segundos."
      ],
      "metadata": {
        "id": "h58Do-iZYe6V"
      }
    },
    {
      "cell_type": "code",
      "source": [
        "video = mpe.VideoFileClip(\"video_flip.mp4\").resize(height=360)\n",
        "\n",
        "part1 = video.subclip(0, 20).audio_fadeout(20)\n",
        "part2 = video.subclip(20, 30).fx(volumex, 0)\n",
        "part3 = video.subclip(30, 50).audio_fadeout(20)\n",
        "part4 = video.subclip(50, 60).fx(volumex, 0)\n",
        "part5 = video.subclip(60, 80).audio_fadeout(20)\n",
        "part6 = video.subclip(80, 90).fx(volumex, 0)\n",
        "part7 = video.subclip(90, 110).audio_fadeout(20)\n",
        "part8 = video.subclip(110, 120).fx(volumex, 0)\n",
        "part9 = video.subclip(120, 140).audio_fadeout(20)\n",
        "part10 = video.subclip(140, 150).fx(volumex, 0)\n",
        "part11 = video.subclip(150).audio_fadeout(20)\n",
        "\n",
        "parts = mpe.concatenate_videoclips([part1, part2, part3, part4, part5, part6, part7, part8, part9, part10, part11])\n",
        "\n",
        "parts.write_videofile(\"video_fade_out.mp4\", codec='libx264')"
      ],
      "metadata": {
        "colab": {
          "base_uri": "https://localhost:8080/"
        },
        "id": "hqV_OpDEwMl0",
        "outputId": "71ee1ed3-744a-4e8d-dd18-c09083778bf3"
      },
      "execution_count": 24,
      "outputs": [
        {
          "output_type": "stream",
          "name": "stdout",
          "text": [
            "Moviepy - Building video video_fade_out.mp4.\n",
            "MoviePy - Writing audio in video_fade_outTEMP_MPY_wvf_snd.mp3\n"
          ]
        },
        {
          "output_type": "stream",
          "name": "stderr",
          "text": []
        },
        {
          "output_type": "stream",
          "name": "stdout",
          "text": [
            "MoviePy - Done.\n",
            "Moviepy - Writing video video_fade_out.mp4\n",
            "\n"
          ]
        },
        {
          "output_type": "stream",
          "name": "stderr",
          "text": []
        },
        {
          "output_type": "stream",
          "name": "stdout",
          "text": [
            "Moviepy - Done !\n",
            "Moviepy - video ready video_fade_out.mp4\n"
          ]
        }
      ]
    },
    {
      "cell_type": "markdown",
      "source": [
        "Juntando tudo e fazendo com que após 60s ele pule pra 80s e ao final mostre o que foi pulado (60s-80s)"
      ],
      "metadata": {
        "id": "95hQ7UwulXIR"
      }
    },
    {
      "cell_type": "code",
      "source": [
        "videofinal = mpe.VideoFileClip('video_fade_out.mp4')\n",
        "\n",
        "part1 = videofinal.subclip(0, 60)\n",
        "part2 = videofinal.subclip(60, 80)\n",
        "part3 = videofinal.subclip(80)\n",
        "\n",
        "partsfinal = mpe.concatenate_videoclips([part1, part3, part2])\n",
        "\n",
        "partsfinal.write_videofile(\"video_final.mp4\", codec='libx264')"
      ],
      "metadata": {
        "colab": {
          "base_uri": "https://localhost:8080/"
        },
        "id": "JE6P3HnShG-3",
        "outputId": "bb915782-0abc-4e87-98ec-e88a57f14cd7"
      },
      "execution_count": 25,
      "outputs": [
        {
          "output_type": "stream",
          "name": "stdout",
          "text": [
            "Moviepy - Building video video_final.mp4.\n",
            "MoviePy - Writing audio in video_finalTEMP_MPY_wvf_snd.mp3\n"
          ]
        },
        {
          "output_type": "stream",
          "name": "stderr",
          "text": []
        },
        {
          "output_type": "stream",
          "name": "stdout",
          "text": [
            "MoviePy - Done.\n",
            "Moviepy - Writing video video_final.mp4\n",
            "\n"
          ]
        },
        {
          "output_type": "stream",
          "name": "stderr",
          "text": [
            "t:  88%|████████▊ | 4425/5039 [00:29<00:03, 191.46it/s, now=None]WARNING:py.warnings:/usr/local/lib/python3.10/dist-packages/moviepy/video/io/ffmpeg_reader.py:123: UserWarning: Warning: in file video_fade_out.mp4, 691200 bytes wanted but 0 bytes read,at frame 5037/5039, at time 167.90/167.94 sec. Using the last valid frame instead.\n",
            "  warnings.warn(\"Warning: in file %s, \"%(self.filename)+\n",
            "\n",
            "WARNING:py.warnings:/usr/local/lib/python3.10/dist-packages/moviepy/video/io/ffmpeg_reader.py:123: UserWarning: Warning: in file video_fade_out.mp4, 691200 bytes wanted but 0 bytes read,at frame 5038/5039, at time 167.93/167.94 sec. Using the last valid frame instead.\n",
            "  warnings.warn(\"Warning: in file %s, \"%(self.filename)+\n",
            "\n"
          ]
        },
        {
          "output_type": "stream",
          "name": "stdout",
          "text": [
            "Moviepy - Done !\n",
            "Moviepy - video ready video_final.mp4\n"
          ]
        }
      ]
    }
  ],
  "metadata": {
    "colab": {
      "provenance": [],
      "gpuType": "T4"
    },
    "kernelspec": {
      "display_name": "Python 3",
      "name": "python3"
    },
    "language_info": {
      "name": "python"
    },
    "accelerator": "GPU"
  },
  "nbformat": 4,
  "nbformat_minor": 0
}